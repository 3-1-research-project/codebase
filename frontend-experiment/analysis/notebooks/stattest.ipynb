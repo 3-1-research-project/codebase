{
 "cells": [
  {
   "cell_type": "code",
   "execution_count": 2,
   "id": "9ac9289a",
   "metadata": {},
   "outputs": [],
   "source": [
    "import scipy.stats as stats\n",
    "import numpy as np\n",
    "import scikit_posthocs as sp\n",
    "import matplotlib.pyplot as plt\n",
    "import seaborn as sns\n",
    "import pandas as pd"
   ]
  },
  {
   "cell_type": "code",
   "execution_count": 3,
   "id": "40a8a7ec",
   "metadata": {},
   "outputs": [],
   "source": [
    "conf_energy_dict = {}\n",
    "conf_time_dict = {}\n",
    "lang_energy_dict = {}\n",
    "lang_time_dict = {}\n",
    "lang_num_dict = {}\n",
    "\n",
    "all_energy_list = []\n",
    "avg_energy_list = []\n",
    "\n",
    "df_energy_dict = {}\n",
    "\n",
    "with open(\"..\\\\data\\\\Data.csv\", \"r\") as f:\n",
    "    lines = f.readlines()\n",
    "    for line in lines:\n",
    "        if line.startswith(\"Group\"):\n",
    "            continue\n",
    "        line = line.strip().split(\",\")\n",
    "        if line[1] == \"\" and line[3] == \"\":\n",
    "            continue\n",
    "        if line[1] == \"\" and line[3] != \"\":\n",
    "            continue\n",
    "        lang = line[0]\n",
    "        conf = line[1]\n",
    "        energy = float(line[3])\n",
    "        time = float(line[5])\n",
    "        if conf not in conf_energy_dict:\n",
    "            conf_energy_dict[conf] = []\n",
    "        \n",
    "        conf_energy_dict[conf].append(energy)\n",
    "        if conf not in conf_time_dict:\n",
    "            conf_time_dict[conf] = []        \n",
    "        conf_time_dict[conf].append(time)\n",
    "\n",
    "        if lang not in lang_energy_dict:\n",
    "            lang_energy_dict[lang] = []\n",
    "        lang_energy_dict[lang].append(energy)\n",
    "        \n",
    "        if lang not in lang_time_dict:\n",
    "            lang_time_dict[lang] = []\n",
    "        lang_time_dict[lang].append(time)\n",
    "        \n",
    "        if lang not in lang_num_dict:\n",
    "            lang_num_dict[lang] = 0\n",
    "        lang_num_dict[lang] += 1"
   ]
  },
  {
   "cell_type": "code",
   "execution_count": 4,
   "id": "fda79bdc",
   "metadata": {},
   "outputs": [
    {
     "name": "stdout",
     "output_type": "stream",
     "text": [
      "Normality:  ['go-default', 'go-jemalloc', 'go-pgo', 'node-default', 'node-jemalloc', 'dotnet-default', 'dotnet-jemalloc', 'dotnet-quick-jit-false', 'python-default', 'python-jemalloc', 'python-default-4-workers', 'python-jemalloc-4-workers', 'ruby-default', 'ruby-jemalloc', 'ruby-yjit', 'rust-default', 'rust-PGO', 'rust-jemalloc']\n",
      "Non Normality:  ['java-default', 'java-jemalloc', 'node-jitless']\n",
      "Shapiro-Wilk test p-values:  {'go-default': 0.5283713340759277, 'go-jemalloc': 0.3671122193336487, 'go-pgo': 0.6453002095222473, 'java-default': 0.0008717963937669992, 'java-jemalloc': 0.0007519629434682429, 'node-default': 0.8487940430641174, 'node-jemalloc': 0.842570424079895, 'node-jitless': 0.0011928870808333158, 'dotnet-default': 0.4383963942527771, 'dotnet-jemalloc': 0.5290932059288025, 'dotnet-quick-jit-false': 0.681451141834259, 'python-default': 0.17892540991306305, 'python-jemalloc': 0.9191370606422424, 'python-default-4-workers': 0.43419596552848816, 'python-jemalloc-4-workers': 0.06945698708295822, 'ruby-default': 0.6085011959075928, 'ruby-jemalloc': 0.5424874424934387, 'ruby-yjit': 0.8187602758407593, 'rust-default': 0.8829871416091919, 'rust-PGO': 0.7547478079795837, 'rust-jemalloc': 0.6482977867126465}\n"
     ]
    }
   ],
   "source": [
    "# Normality test\n",
    "\n",
    "list_of_normality = []\n",
    "list_of_non_normality = []\n",
    "conf_normality_dict = {}\n",
    "\n",
    "\n",
    "for config, data in conf_energy_dict.items():\n",
    "    stat, p_value = stats.shapiro(data)\n",
    "    conf_normality_dict[config] = p_value\n",
    "    if p_value < 0.05:\n",
    "        list_of_non_normality.append(config)\n",
    "    else:\n",
    "        list_of_normality.append(config)\n",
    "print(\"Normality: \", list_of_normality)\n",
    "print(\"Non Normality: \", list_of_non_normality)\n",
    "print(\"Shapiro-Wilk test p-values: \", conf_normality_dict)"
   ]
  },
  {
   "cell_type": "code",
   "execution_count": 5,
   "id": "965a53f8",
   "metadata": {},
   "outputs": [],
   "source": [
    "p_value_dict = {}"
   ]
  },
  {
   "cell_type": "code",
   "execution_count": 6,
   "id": "8725172c",
   "metadata": {},
   "outputs": [
    {
     "name": "stdout",
     "output_type": "stream",
     "text": [
      "t-test between go default and go-jemalloc: t-statistic = 0.613468279565349, p-value = 0.5566027668884561\n",
      "t-test between go default and go-pgo: t-statistic = 2.543293108246538, p-value = 0.03453329263634111\n",
      "t-test between node default and node-jemalloc: t-statistic = -1.5448503555857662, p-value = 0.16096294518515705\n",
      "t-test between dotnet default and dotnet-jemalloc: t-statistic = -2.8397065129777763, p-value = 0.021821816779441606\n",
      "t-test between dotnet default and dotnet-quick-jit-false: t-statistic = -5.4942369754952045, p-value = 0.0005776595005664528\n",
      "t-test between python default and python-jemalloc: t-statistic = -12.009603959846947, p-value = 2.130835631669278e-06\n",
      "t-test between python default and python-default-4-workers: t-statistic = -5.263697328572447, p-value = 0.0007610839321377533\n",
      "t-test between python default and python-jemalloc-4-workers: t-statistic = -3.8340930567249045, p-value = 0.004988836627025367\n",
      "t-test between ruby default and ruby-jemalloc: t-statistic = 14.500800719464007, p-value = 5.008233197323181e-07\n",
      "t-test between ruby default and ruby-yjit: t-statistic = 41.67411117664486, p-value = 1.2108815590678066e-10\n",
      "t-test between rust default and rust-PGO: t-statistic = 0.46278738622475085, p-value = 0.6558446042130086\n",
      "t-test between rust default and rust-jemalloc: t-statistic = -2.0184936948573213, p-value = 0.07824113982427737\n"
     ]
    }
   ],
   "source": [
    "# For the normally distributed data, we use student's t-test\n",
    "# Specifically we use the independent two-sample t-test, as we have\n",
    "# 2 independent samples each time (default and another config)\n",
    "for lang in lang_num_dict.keys():\n",
    "    default = []\n",
    "    for config, data in conf_energy_dict.items():\n",
    "        if lang in config:\n",
    "            if config == str(lang) + '-' + \"default\":\n",
    "                default = data\n",
    "                continue\n",
    "            if config in list_of_non_normality:\n",
    "                continue\n",
    "            stat, p_value = stats.ttest_ind(default, data)\n",
    "            print(f\"t-test between {lang} default and {config}: t-statistic = {stat}, p-value = {p_value}\")\n",
    "            p_value_dict[config] = p_value\n",
    "            \n"
   ]
  },
  {
   "cell_type": "code",
   "execution_count": null,
   "id": "34619577",
   "metadata": {},
   "outputs": [],
   "source": []
  },
  {
   "cell_type": "code",
   "execution_count": 7,
   "id": "afb86e93",
   "metadata": {},
   "outputs": [
    {
     "name": "stdout",
     "output_type": "stream",
     "text": [
      "Comparison between java default and java-jemalloc: U-statistic = 7.0, p-value = 0.30952380952380953\n",
      "Comparison between node default and node-jitless: U-statistic = 0.0, p-value = 0.007936507936507936\n"
     ]
    }
   ],
   "source": [
    "# For the non normally distributed data, we use mann-whitney U test\n",
    "for lang in lang_num_dict.keys():\n",
    "    default = []\n",
    "    for config, data in conf_energy_dict.items():\n",
    "        if lang in config:\n",
    "            if \"default\" in config:\n",
    "                default = data\n",
    "                continue\n",
    "            if config in list_of_normality:\n",
    "                continue\n",
    "            stat, p_value = stats.mannwhitneyu(default, data)\n",
    "            print(f\"Comparison between {lang} default and {config}: U-statistic = {stat}, p-value = {p_value}\")\n",
    "            p_value_dict[config] = p_value"
   ]
  },
  {
   "cell_type": "code",
   "execution_count": 8,
   "id": "0e97840d",
   "metadata": {},
   "outputs": [
    {
     "name": "stdout",
     "output_type": "stream",
     "text": [
      "{'go-jemalloc': 0.5566027668884561, 'go-pgo': 0.03453329263634111, 'node-jemalloc': 0.16096294518515705, 'dotnet-jemalloc': 0.021821816779441606, 'dotnet-quick-jit-false': 0.0005776595005664528, 'python-jemalloc': 2.130835631669278e-06, 'python-default-4-workers': 0.0007610839321377533, 'python-jemalloc-4-workers': 0.004988836627025367, 'ruby-jemalloc': 5.008233197323181e-07, 'ruby-yjit': 1.2108815590678066e-10, 'rust-PGO': 0.6558446042130086, 'rust-jemalloc': 0.07824113982427737, 'java-jemalloc': 0.30952380952380953, 'node-jitless': 0.007936507936507936}\n"
     ]
    }
   ],
   "source": [
    "print(p_value_dict)"
   ]
  }
 ],
 "metadata": {
  "kernelspec": {
   "display_name": "base",
   "language": "python",
   "name": "python3"
  },
  "language_info": {
   "codemirror_mode": {
    "name": "ipython",
    "version": 3
   },
   "file_extension": ".py",
   "mimetype": "text/x-python",
   "name": "python",
   "nbconvert_exporter": "python",
   "pygments_lexer": "ipython3",
   "version": "3.11.4"
  }
 },
 "nbformat": 4,
 "nbformat_minor": 5
}
