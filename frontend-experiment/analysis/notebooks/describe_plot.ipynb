{
 "cells": [
  {
   "cell_type": "code",
   "execution_count": 1,
   "metadata": {},
   "outputs": [],
   "source": [
    "import os\n",
    "import pandas as pd\n",
    "import matplotlib.pyplot as plt\n",
    "\n",
    "data_dir = \"/workspaces/analysis/power-data\""
   ]
  },
  {
   "cell_type": "code",
   "execution_count": 2,
   "metadata": {},
   "outputs": [],
   "source": [
    "def load_power_data(file_path):\n",
    "    \"\"\"\n",
    "    Load power data from a CSV file.\n",
    "    \n",
    "    Returns:\n",
    "        pd.DataFrame: DataFrame containing the power data.\n",
    "    \"\"\"\n",
    "\n",
    "    df = pd.read_csv(file_path)\n",
    "    # Baseline\n",
    "    baseline_len = 50000\n",
    "    baseline_data = df.iloc[:baseline_len]\n",
    "    # print(\"Baseline data:\")\n",
    "    # print(baseline_data.describe())\n",
    "    # print()\n",
    "\n",
    "    # Rest\n",
    "    data = df.iloc[baseline_len:]\n",
    "    \n",
    "    return data"
   ]
  },
  {
   "cell_type": "markdown",
   "metadata": {},
   "source": [
    "### Analyse"
   ]
  },
  {
   "cell_type": "code",
   "execution_count": 3,
   "metadata": {},
   "outputs": [],
   "source": [
    "from pandas import DataFrame\n",
    "\n",
    "def save_describe_to_file(name: str, data: DataFrame, file_path):\n",
    "    \"\"\"\n",
    "    Save the describe output of the DataFrame to a text file.\n",
    "    \n",
    "    Args:\n",
    "        data (pd.DataFrame): DataFrame containing the power data.\n",
    "        file_path (str): Path to the output text file.\n",
    "    \"\"\"\n",
    "    with open(file_path, 'a') as f:\n",
    "        f.write(f\"\\n\\n{name}:\\n\")\n",
    "        f.write(\"-----------------------------\\n\")\n",
    "        f.write(str(data.describe()))\n",
    "        f.write(\"\\n\\n\")\n",
    "        print(f\"Describe output appended to {file_path}\")"
   ]
  },
  {
   "cell_type": "code",
   "execution_count": 4,
   "metadata": {},
   "outputs": [
    {
     "name": "stdout",
     "output_type": "stream",
     "text": [
      "Processing python-flask-B-true_2025-04-02_14-37-53.csv...\n",
      "Finished processing python-flask-B-true_2025-04-02_14-37-53.csv.\n",
      "Processing python-flask-baseline_1_2025-04-07_10-52-15.csv...\n",
      "Finished processing python-flask-baseline_1_2025-04-07_10-52-15.csv.\n",
      "Processing python-flask-B-true_2025-04-02_15-34-59.csv...\n",
      "Finished processing python-flask-B-true_2025-04-02_15-34-59.csv.\n",
      "Processing python-flask-baseline_2_2025-04-07_11-08-36.csv...\n",
      "Finished processing python-flask-baseline_2_2025-04-07_11-08-36.csv.\n",
      "Processing python-flask-B-true_2025-04-02_15-53-48.csv...\n",
      "Finished processing python-flask-B-true_2025-04-02_15-53-48.csv.\n",
      "Processing python-flask-baseline_0_2025-04-07_10-35-46.csv...\n",
      "Finished processing python-flask-baseline_0_2025-04-07_10-35-46.csv.\n",
      "Processing python-flask-B-true_2025-04-02_15-17-05.csv...\n",
      "Finished processing python-flask-B-true_2025-04-02_15-17-05.csv.\n",
      "Processing python-flask-baseline_4_2025-04-07_11-41-18.csv...\n",
      "Finished processing python-flask-baseline_4_2025-04-07_11-41-18.csv.\n",
      "Processing python-flask-B-true_2025-04-02_14-59-08.csv...\n",
      "Finished processing python-flask-B-true_2025-04-02_14-59-08.csv.\n",
      "Processing python-flask-baseline_3_2025-04-07_11-24-53.csv...\n",
      "Finished processing python-flask-baseline_3_2025-04-07_11-24-53.csv.\n"
     ]
    }
   ],
   "source": [
    "files = [f for f in os.listdir('./power-data')]\n",
    "\n",
    "datasets = {}\n",
    "\n",
    "for file in files:\n",
    "    if file.endswith('.csv'):\n",
    "        print(f\"Processing {file}...\")\n",
    "        data = load_power_data(os.path.join(data_dir, file))\n",
    "        datasets.update({file: data})\n",
    "        #save_describe_to_file(file, data, 'describe_output.txt')\n",
    "        print(f\"Finished processing {file}.\")\n"
   ]
  },
  {
   "cell_type": "markdown",
   "metadata": {},
   "source": [
    "### Total energy consumption"
   ]
  },
  {
   "cell_type": "code",
   "execution_count": 5,
   "metadata": {},
   "outputs": [
    {
     "name": "stdout",
     "output_type": "stream",
     "text": [
      "Describe output appended to describe_output.txt\n",
      "Describe output appended to describe_output.txt\n",
      "Describe output appended to describe_output.txt\n",
      "Describe output appended to describe_output.txt\n",
      "Describe output appended to describe_output.txt\n",
      "Describe output appended to describe_output.txt\n",
      "Describe output appended to describe_output.txt\n",
      "Describe output appended to describe_output.txt\n",
      "Describe output appended to describe_output.txt\n",
      "Describe output appended to describe_output.txt\n"
     ]
    }
   ],
   "source": [
    "for dataset in datasets:\n",
    "    data = datasets[dataset]\n",
    "    # print(f\"Dataset {dataset}:\\n\")\n",
    "    # print(data.describe())\n",
    "    # print(\"\\n\\n\")\n",
    "    # Save the describe output to a text file\n",
    "    save_describe_to_file(dataset, data, 'describe_output.txt')"
   ]
  },
  {
   "cell_type": "code",
   "execution_count": 13,
   "metadata": {},
   "outputs": [],
   "source": [
    "import numpy as np\n",
    "\n",
    "def calculate_energy(df):\n",
    "    times = df['seconds']\n",
    "    powers = df['power']\n",
    "    energy = np.trapz(powers, times)  # Trapezoidal integration\n",
    "    duration = times.iloc[-1] - times.iloc[0]\n",
    "    avg_power = energy / duration if duration > 0 else 0\n",
    "    return energy, avg_power\n",
    "\n",
    "def calculate_group_energy(datasets, group_prefixes):\n",
    "    group_energies = {prefix: 0 for prefix in group_prefixes}\n",
    "\n",
    "    for dataset in datasets:\n",
    "        data = datasets[dataset]\n",
    "        energy, avg_power = calculate_energy(data)\n",
    "        for prefix in group_prefixes:\n",
    "            if dataset.startswith(prefix):\n",
    "                group_energies[prefix] += energy\n",
    "                break\n",
    "        print(f\"Dataset {dataset}:\")\n",
    "        print(f\"  Energy: {energy:.2f} J\")\n",
    "        print(f\"  Average Power: {avg_power:.2f} W\")\n",
    "        print()\n",
    "\n",
    "    for prefix in group_prefixes:\n",
    "        total_energy = group_energies[prefix]\n",
    "        mean_energy = total_energy / (len(datasets) / len(group_prefixes))\n",
    "        print(f\"Total energy for {prefix}: {total_energy:.2f} J\")\n",
    "        print(f\"Mean energy for {prefix}: {mean_energy:.2f} J\")\n"
   ]
  },
  {
   "cell_type": "code",
   "execution_count": 14,
   "metadata": {},
   "outputs": [
    {
     "name": "stderr",
     "output_type": "stream",
     "text": [
      "/tmp/ipykernel_638/2765544989.py:6: DeprecationWarning: `trapz` is deprecated. Use `trapezoid` instead, or one of the numerical integration functions in `scipy.integrate`.\n",
      "  energy = np.trapz(powers, times)  # Trapezoidal integration\n"
     ]
    },
    {
     "name": "stdout",
     "output_type": "stream",
     "text": [
      "Dataset python-flask-B-true_2025-04-02_14-37-53.csv:\n",
      "  Energy: 1670.16 J\n",
      "  Average Power: 2.18 W\n",
      "\n",
      "Dataset python-flask-baseline_1_2025-04-07_10-52-15.csv:\n",
      "  Energy: 1616.84 J\n",
      "  Average Power: 2.20 W\n",
      "\n",
      "Dataset python-flask-B-true_2025-04-02_15-34-59.csv:\n",
      "  Energy: 1682.71 J\n",
      "  Average Power: 2.18 W\n",
      "\n",
      "Dataset python-flask-baseline_2_2025-04-07_11-08-36.csv:\n",
      "  Energy: 1615.90 J\n",
      "  Average Power: 2.20 W\n",
      "\n",
      "Dataset python-flask-B-true_2025-04-02_15-53-48.csv:\n",
      "  Energy: 1674.71 J\n",
      "  Average Power: 2.18 W\n",
      "\n",
      "Dataset python-flask-baseline_0_2025-04-07_10-35-46.csv:\n",
      "  Energy: 1609.22 J\n",
      "  Average Power: 2.20 W\n",
      "\n",
      "Dataset python-flask-B-true_2025-04-02_15-17-05.csv:\n",
      "  Energy: 1677.92 J\n",
      "  Average Power: 2.18 W\n",
      "\n",
      "Dataset python-flask-baseline_4_2025-04-07_11-41-18.csv:\n",
      "  Energy: 1619.38 J\n",
      "  Average Power: 2.20 W\n",
      "\n",
      "Dataset python-flask-B-true_2025-04-02_14-59-08.csv:\n",
      "  Energy: 1667.24 J\n",
      "  Average Power: 2.18 W\n",
      "\n",
      "Dataset python-flask-baseline_3_2025-04-07_11-24-53.csv:\n",
      "  Energy: 1616.75 J\n",
      "  Average Power: 2.20 W\n",
      "\n",
      "Total energy for python-flask-baseline: 8078.10 J\n",
      "Mean energy for python-flask-baseline: 1615.62 J\n",
      "Total energy for python-flask-B-true: 8372.73 J\n",
      "Mean energy for python-flask-B-true: 1674.55 J\n"
     ]
    }
   ],
   "source": [
    "calculate_group_energy(datasets, [\"python-flask-baseline\", \"python-flask-B-true\"])"
   ]
  },
  {
   "cell_type": "markdown",
   "metadata": {},
   "source": [
    "### Plot"
   ]
  },
  {
   "cell_type": "code",
   "execution_count": 55,
   "metadata": {},
   "outputs": [],
   "source": [
    "from datetime import datetime\n",
    "\n",
    "def plot(title, set:dict):\n",
    "    # Generate labels from file names\n",
    "    labels = [key.split('.')[0] for key in set.keys()]\n",
    "\n",
    "    # Define colors for the plots\n",
    "    colors = plt.cm.tab10.colors\n",
    "\n",
    "    for name, df in set.items():\n",
    "        #df['minute'] = (df['seconds'] // 60).astype(int)  # Convert seconds to minutes\n",
    "        grouped = df.groupby('minute')['power'].mean().reset_index()\n",
    "        set[name] = grouped\n",
    "\n",
    "    # Plotting\n",
    "    plt.figure(figsize=(12, 6))\n",
    "\n",
    "    for i, (name, df) in enumerate(set.items()):\n",
    "        plt.plot(df['minute'], df['power'], label=labels[i], color=colors[i % len(colors)], marker='o')\n",
    "\n",
    "    # Add labels and title\n",
    "    plt.title(f'Average Power Usage Grouped by Minute ({title}): ', fontsize=14)\n",
    "    plt.xlabel('Minute', fontsize=12)\n",
    "    plt.xlim(-1, 20)\n",
    "    plt.ylabel('Average Power (Watts)', fontsize=12)\n",
    "    plt.legend(title='Dataset')\n",
    "    plt.grid(True)\n",
    "\n",
    "    # Save the plot\n",
    "    output_dir = 'plots'\n",
    "    os.makedirs(output_dir, exist_ok=True)\n",
    "    timestamp = datetime.now().strftime(\"%Y-%m-%d_%H-%M-%S\")\n",
    "    file_path = os.path.join(output_dir, f'{title}_power_usage_by_minute_plot_{timestamp}.png')\n",
    "    plt.savefig(file_path, dpi=500) \n",
    "    plt.close() "
   ]
  },
  {
   "cell_type": "code",
   "execution_count": null,
   "metadata": {},
   "outputs": [],
   "source": [
    "dotnet_datasets = {key: value for key, value in datasets.items() if key.startswith('python-flask-B')}\n",
    "python_datasets = {key: value for key, value in datasets.items() if key.startswith('python-flask-baseline')}\n",
    "\n",
    "plot(\"python -b\", dotnet_datasets)\n",
    "plot(\"python -baseline\", python_datasets)"
   ]
  }
 ],
 "metadata": {
  "kernelspec": {
   "display_name": "Python 3",
   "language": "python",
   "name": "python3"
  },
  "language_info": {
   "codemirror_mode": {
    "name": "ipython",
    "version": 3
   },
   "file_extension": ".py",
   "mimetype": "text/x-python",
   "name": "python",
   "nbconvert_exporter": "python",
   "pygments_lexer": "ipython3",
   "version": "3.10.12"
  }
 },
 "nbformat": 4,
 "nbformat_minor": 2
}
